{
 "cells": [
  {
   "cell_type": "code",
   "execution_count": 6,
   "metadata": {},
   "outputs": [],
   "source": [
    "from sentence_transformers import SentenceTransformer, util\n",
    "import os\n",
    "from elasticsearch import Elasticsearch, helpers\n",
    "import csv\n",
    "import time\n",
    "import tqdm.autonotebook"
   ]
  },
  {
   "cell_type": "code",
   "execution_count": 4,
   "metadata": {},
   "outputs": [
    {
     "data": {
      "text/plain": [
       "{'name': '658f1e29656f',\n",
       " 'cluster_name': 'docker-cluster',\n",
       " 'cluster_uuid': 'm9CswWHlSaatHXliisCf7w',\n",
       " 'version': {'number': '8.7.0',\n",
       "  'build_flavor': 'default',\n",
       "  'build_type': 'docker',\n",
       "  'build_hash': '09520b59b6bc1057340b55750186466ea715e30e',\n",
       "  'build_date': '2023-03-27T16:31:09.816451435Z',\n",
       "  'build_snapshot': False,\n",
       "  'lucene_version': '9.5.0',\n",
       "  'minimum_wire_compatibility_version': '7.17.0',\n",
       "  'minimum_index_compatibility_version': '7.0.0'},\n",
       " 'tagline': 'You Know, for Search'}"
      ]
     },
     "execution_count": 4,
     "metadata": {},
     "output_type": "execute_result"
    }
   ],
   "source": [
    "es = Elasticsearch(\"http://localhost:9200\")\n",
    "es.info().body"
   ]
  },
  {
   "cell_type": "code",
   "execution_count": 9,
   "metadata": {},
   "outputs": [
    {
     "data": {
      "text/plain": [
       "Dataset({\n",
       "    features: ['title', 'url', 'body', 'date', 'flt_dates'],\n",
       "    num_rows: 500\n",
       "})"
      ]
     },
     "execution_count": 9,
     "metadata": {},
     "output_type": "execute_result"
    }
   ],
   "source": [
    "from datasets import load_dataset\n",
    "# load first 20k rows\n",
    "ds = load_dataset(\"nlplabtdtu/edu-crawl-with-date\", split=\"train[:500]\", token='...')\n",
    "ds"
   ]
  },
  {
   "cell_type": "code",
   "execution_count": 10,
   "metadata": {},
   "outputs": [],
   "source": [
    "model = SentenceTransformer('nlplabtdtu/bert-70M-cased-senformer')"
   ]
  },
  {
   "cell_type": "markdown",
   "metadata": {},
   "source": [
    "## Indexing data"
   ]
  },
  {
   "cell_type": "code",
   "execution_count": null,
   "metadata": {},
   "outputs": [],
   "source": [
    "if not es.indices.exists(index=\"edu_data_index\"):\n",
    "    try:\n",
    "      es_index = {\n",
    "        \"mappings\": {\n",
    "          \"properties\": {\n",
    "            \"title\": {\n",
    "              \"type\": \"text\"\n",
    "            },\n",
    "            \"body\": {\n",
    "              \"type\": \"text\"\n",
    "            },\n",
    "            \"date\": {\n",
    "              \"type\": \"text\"\n",
    "            },\n",
    "            \"flt_dates\": {\n",
    "              \"type\": \"text\"\n",
    "            },\n",
    "            \"body_vector\": {\n",
    "              \"type\": \"dense_vector\",\n",
    "              \"dims\": 768\n",
    "            }\n",
    "          }\n",
    "        }\n",
    "      }\n",
    "\n",
    "      es.indices.create(index='edu_data_index', body=es_index, ignore=[400])\n",
    "      bulk_data = []\n",
    "      for i in range(len(ds)):\n",
    "        embedding = model.encode(ds[i]['body'], show_progress_bar=False)\n",
    "        bulk_data.append({\n",
    "                \"_index\": 'edu_data_index',\n",
    "                \"_source\": {\n",
    "                    \"title\": ds[i]['title'],\n",
    "                    \"body\": ds[i]['body'],\n",
    "                    \"date\": ds[i]['date'],\n",
    "                    \"flt_dates\": ds[i]['flt_dates'],\n",
    "                    \"body_vector\": embedding\n",
    "                }\n",
    "            })\n",
    "      print(bulk_data[0])\n",
    "\n",
    "      helpers.bulk(es, bulk_data)\n",
    "\n",
    "    except:\n",
    "        print(\"During index an exception occured. Continue\\n\\n\")"
   ]
  },
  {
   "cell_type": "code",
   "execution_count": 19,
   "metadata": {},
   "outputs": [
    {
     "name": "stderr",
     "output_type": "stream",
     "text": [
      "/tmp/ipykernel_7018/112396369.py:2: DeprecationWarning: Passing transport options in the API method is deprecated. Use 'Elasticsearch.options()' instead.\n",
      "  es.indices.delete(index='edu_data_index', ignore=[400, 404])\n"
     ]
    },
    {
     "data": {
      "text/plain": [
       "ObjectApiResponse({'acknowledged': True})"
      ]
     },
     "execution_count": 19,
     "metadata": {},
     "output_type": "execute_result"
    }
   ],
   "source": [
    "# delete index edu_data_index\n",
    "# es.indices.delete(index='edu_data_index', ignore=[400, 404])"
   ]
  },
  {
   "cell_type": "code",
   "execution_count": null,
   "metadata": {},
   "outputs": [],
   "source": []
  },
  {
   "cell_type": "markdown",
   "metadata": {},
   "source": [
    "## Interactive search queries"
   ]
  },
  {
   "cell_type": "code",
   "execution_count": 27,
   "metadata": {},
   "outputs": [],
   "source": [
    "inp_question = \"\"\"Ban Giám đốc đổi tên Ban Khảo thí và Kiểm định chất lượng đào tạo thành Ban Khảo thí và Quản lý chất lượng vào thời gian nào?\"\"\""
   ]
  },
  {
   "cell_type": "code",
   "execution_count": 29,
   "metadata": {},
   "outputs": [
    {
     "name": "stdout",
     "output_type": "stream",
     "text": [
      "Encoding time: 0.027344703674316406\n"
     ]
    }
   ],
   "source": [
    "encode_start_time = time.time()\n",
    "question_embedding = model.encode(inp_question)\n",
    "encode_end_time = time.time()\n",
    "\n",
    "print(\"Encoding time:\", encode_end_time - encode_start_time)"
   ]
  },
  {
   "cell_type": "code",
   "execution_count": 52,
   "metadata": {},
   "outputs": [
    {
     "name": "stdout",
     "output_type": "stream",
     "text": [
      "Searching time: 0.006\n",
      "BM25 results:\n",
      "\t\n",
      "Thứ ba, 22/11/2022 - 9:2\n",
      "BAN KHẢO THÍ VÀ QUẢN LÝ CHẤT LƯỢNG\n",
      "Sau 4 năm hoạt động, để phù hợp với tình hình thực hiện chức năng, nhiệm vụ, Giám đốc Học viện đã đổi tên Ban Khảo thí và Kiểm định chất lượng đào tạo thành Ban Khảo thí và Quản lý chất lượng vào tháng 10 năm 2010.\n",
      "I. Liên hệ\n",
      "- Tên đơn vị: Ban Khảo thí và Quản lý chất lượng\n",
      "- Địa chỉ: Số 58 Lê Văn Hiến, Phường Đức Thắng, Quận Bắc Từ Liêm, Hà Nội\n",
      "- Số điện thoại liên hệ: \n",
      "- Email: khaothi_qlcl@hvtc.edu.vn\n",
      "II. Quá trình thành lập và phát\n",
      "\t\n",
      "Thứ ba, 22/11/2022 - 9:2\n",
      "BAN KHẢO THÍ VÀ QUẢN LÝ CHẤT LƯỢNG\n",
      "Sau 4 năm hoạt động, để phù hợp với tình hình thực hiện chức năng, nhiệm vụ, Giám đốc Học viện đã đổi tên Ban Khảo thí và Kiểm định chất lượng đào tạo thành Ban Khảo thí và Quản lý chất lượng vào tháng 10 năm 2010.\n",
      "I. Liên hệ\n",
      "- Tên đơn vị: Ban Khảo thí và Quản lý chất lượng\n",
      "- Địa chỉ: Số 58 Lê Văn Hiến, Phường Đức Thắng, Quận Bắc Từ Liêm, Hà Nội\n",
      "- Số điện thoại liên hệ: \n",
      "- Email: khaothi_qlcl@hvtc.edu.vn\n",
      "II. Quá trình thành lập và phát\n",
      "\t\n",
      "Thứ ba, 22/11/2022 - 9:2\n",
      "BAN KHẢO THÍ VÀ QUẢN LÝ CHẤT LƯỢNG\n",
      "Sau 4 năm hoạt động, để phù hợp với tình hình thực hiện chức năng, nhiệm vụ, Giám đốc Học viện đã đổi tên Ban Khảo thí và Kiểm định chất lượng đào tạo thành Ban Khảo thí và Quản lý chất lượng vào tháng 10 năm 2010.\n",
      "I. Liên hệ\n",
      "- Tên đơn vị: Ban Khảo thí và Quản lý chất lượng\n",
      "- Địa chỉ: Số 58 Lê Văn Hiến, Phường Đức Thắng, Quận Bắc Từ Liêm, Hà Nội\n",
      "- Số điện thoại liên hệ: \n",
      "- Email: khaothi_qlcl@hvtc.edu.vn\n",
      "II. Quá trình thành lập và phát\n"
     ]
    },
    {
     "name": "stderr",
     "output_type": "stream",
     "text": [
      "/tmp/ipykernel_7018/420262707.py:2: DeprecationWarning: The 'body' parameter is deprecated and will be removed in a future version. Instead use individual parameters.\n",
      "  bm25 = es.search(\n"
     ]
    }
   ],
   "source": [
    "#Lexical search\n",
    "bm25 = es.search(\n",
    "    index=\"edu_data_index\", \n",
    "    body={\"query\": \n",
    "          {\"match\": {\"body\": inp_question }}\n",
    "    }\n",
    ")\n",
    "\n",
    "print(\"Searching time:\", bm25['took']/1000)\n",
    "print(\"BM25 results:\")\n",
    "for hit in bm25['hits']['hits'][0:3]:\n",
    "    print(\"\\t{}\".format(hit['_source']['body'][:500]))"
   ]
  },
  {
   "cell_type": "code",
   "execution_count": 53,
   "metadata": {},
   "outputs": [
    {
     "name": "stdout",
     "output_type": "stream",
     "text": [
      "Searching time: 0.004\n",
      "\n",
      "Semantic Search results:\n",
      "\t\n",
      "Thứ ba, 22/11/2022 - 9:2\n",
      "BAN KHẢO THÍ VÀ QUẢN LÝ CHẤT LƯỢNG\n",
      "Sau 4 năm hoạt động, để phù hợp với tình hình thực hiện chức năng, nhiệm vụ, Giám đốc Học viện đã đổi tên Ban Khảo thí và Kiểm định chất lượng đào tạo thành Ban Khảo thí và Quản lý chất lượng vào tháng 10 năm 2010.\n",
      "I. Liên hệ\n",
      "- Tên đơn vị: Ban Khảo thí và Quản lý chất lượng\n",
      "- Địa chỉ: Số 58 Lê Văn Hiến, Phường Đức Thắng, Quận Bắc Từ Liêm, Hà Nội\n",
      "- Số điện thoại liên hệ: \n",
      "- Email: khaothi_qlcl@hvtc.edu.vn\n",
      "II. Quá trình thành lập và phát\n",
      "\t\n",
      "Thứ ba, 22/11/2022 - 9:2\n",
      "BAN KHẢO THÍ VÀ QUẢN LÝ CHẤT LƯỢNG\n",
      "Sau 4 năm hoạt động, để phù hợp với tình hình thực hiện chức năng, nhiệm vụ, Giám đốc Học viện đã đổi tên Ban Khảo thí và Kiểm định chất lượng đào tạo thành Ban Khảo thí và Quản lý chất lượng vào tháng 10 năm 2010.\n",
      "I. Liên hệ\n",
      "- Tên đơn vị: Ban Khảo thí và Quản lý chất lượng\n",
      "- Địa chỉ: Số 58 Lê Văn Hiến, Phường Đức Thắng, Quận Bắc Từ Liêm, Hà Nội\n",
      "- Số điện thoại liên hệ: \n",
      "- Email: khaothi_qlcl@hvtc.edu.vn\n",
      "II. Quá trình thành lập và phát\n",
      "\t\n",
      "Thứ ba, 22/11/2022 - 9:2\n",
      "BAN KHẢO THÍ VÀ QUẢN LÝ CHẤT LƯỢNG\n",
      "Sau 4 năm hoạt động, để phù hợp với tình hình thực hiện chức năng, nhiệm vụ, Giám đốc Học viện đã đổi tên Ban Khảo thí và Kiểm định chất lượng đào tạo thành Ban Khảo thí và Quản lý chất lượng vào tháng 10 năm 2010.\n",
      "I. Liên hệ\n",
      "- Tên đơn vị: Ban Khảo thí và Quản lý chất lượng\n",
      "- Địa chỉ: Số 58 Lê Văn Hiến, Phường Đức Thắng, Quận Bắc Từ Liêm, Hà Nội\n",
      "- Số điện thoại liên hệ: \n",
      "- Email: khaothi_qlcl@hvtc.edu.vn\n",
      "II. Quá trình thành lập và phát\n",
      "\n",
      "\n",
      "========\n",
      "\n"
     ]
    },
    {
     "name": "stderr",
     "output_type": "stream",
     "text": [
      "/tmp/ipykernel_7018/3737271438.py:2: DeprecationWarning: The 'body' parameter is deprecated and will be removed in a future version. Instead use individual parameters.\n",
      "  sem_search = es.search(index=\"edu_data_index\", body=\n"
     ]
    }
   ],
   "source": [
    "#Sematic search\n",
    "sem_search = es.search(index=\"edu_data_index\", body=\n",
    "                       {\n",
    "                            \"query\": {\n",
    "                                \"script_score\": {\n",
    "                                    \"query\" : {\n",
    "                                        \"match_all\": {},\n",
    "                                    },\n",
    "                                    \"script\": {\n",
    "                                        \"source\": \"cosineSimilarity(params.query_vector, 'body_vector') + 1.0\", \n",
    "                                        \"params\": {\n",
    "                                            \"query_vector\": question_embedding\n",
    "                                        }\n",
    "                                    }\n",
    "                                }\n",
    "                            }\n",
    "                        }\n",
    ")\n",
    "\n",
    "print(\"Searching time:\", sem_search['took']/1000)\n",
    "\n",
    "print(\"\\nSemantic Search results:\")\n",
    "for hit in sem_search['hits']['hits'][0:3]:\n",
    "    print(\"\\t{}\".format(hit['_source']['body'][:500]))\n",
    "\n",
    "print(\"\\n\\n========\\n\")"
   ]
  },
  {
   "cell_type": "code",
   "execution_count": null,
   "metadata": {},
   "outputs": [],
   "source": []
  }
 ],
 "metadata": {
  "kernelspec": {
   "display_name": "Python 3",
   "language": "python",
   "name": "python3"
  },
  "language_info": {
   "codemirror_mode": {
    "name": "ipython",
    "version": 3
   },
   "file_extension": ".py",
   "mimetype": "text/x-python",
   "name": "python",
   "nbconvert_exporter": "python",
   "pygments_lexer": "ipython3",
   "version": "3.9.18"
  }
 },
 "nbformat": 4,
 "nbformat_minor": 2
}
